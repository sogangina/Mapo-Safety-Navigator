{
 "cells": [
  {
   "cell_type": "code",
   "execution_count": 6,
   "id": "c55c535c-9c2e-4f68-bc7f-11b3e065f626",
   "metadata": {},
   "outputs": [
    {
     "name": "stdin",
     "output_type": "stream",
     "text": [
      "Enter your Upstage API key:  ········\n"
     ]
    }
   ],
   "source": [
    "# @title set API key\n",
    "import os\n",
    "import getpass\n",
    "from pprint import pprint\n",
    "import warnings\n",
    "\n",
    "warnings.filterwarnings(\"ignore\")\n",
    "\n",
    "from IPython import get_ipython\n",
    "\n",
    "if \"google.colab\" in str(get_ipython()):\n",
    "    # Running in Google Colab. Please set the UPSTAGE_API_KEY in the Colab Secrets\n",
    "    from google.colab import userdata\n",
    "    os.environ[\"UPSTAGE_API_KEY\"] = userdata.get(\"UPSTAGE_API_KEY\")\n",
    "else:\n",
    "    # Running locally. Please set the UPSTAGE_API_KEY in the .env file\n",
    "    from dotenv import load_dotenv\n",
    "\n",
    "    load_dotenv()\n",
    "\n",
    "if \"UPSTAGE_API_KEY\" not in os.environ:\n",
    "    os.environ[\"UPSTAGE_API_KEY\"] = getpass.getpass(\"Enter your Upstage API key: \")"
   ]
  },
  {
   "cell_type": "code",
   "execution_count": 7,
   "id": "6034f61b-ebea-4714-a491-6244479e2237",
   "metadata": {},
   "outputs": [
    {
     "name": "stdout",
     "output_type": "stream",
     "text": [
      "ChatCompletion(id='31f2d4f6-a3ae-459d-92e9-4989c9decfe3', choices=[Choice(finish_reason='stop', index=0, logprobs=None, message=ChatCompletionMessage(content=\"Ah, Korea. A fascinating blend of ancient traditions and modern innovation. The cuisine is a testament to this fusion, with dishes like bibimbap and kimchi representing the country's rich culinary heritage while also being adaptable to contemporary palates. \\n\\nKorean food is known for its balance of flavors - spicy, salty, sweet, and sour. It's not just about the hot pepper flakes that give it a kick, but also about the delicate balance of these different tastes. And let's not forget the importance of presentation in Korean cuisine. Each dish is carefully arranged, often with vibrant colors and textures, making every meal a visual feast as well.\\n\\nThere's something truly special about how Koreans use fermented foods like kimchi and doenjang (fermented soybean paste) in their cooking. Not only do they add depth of flavor, but they also contribute to the health benefits of Korean food. \\n\\nAnd then there's the social aspect of eating in Korea. Meals are often shared communally, with multiple dishes placed in the center of the table for everyone to enjoy. It's a way of fostering connection and community, which I believe is at the heart of what makes food so important in our lives.\", refusal=None, role='assistant', audio=None, function_call=None, tool_calls=None))], created=1730517303, model='solar-mini-240612', object='chat.completion', service_tier=None, system_fingerprint=None, usage=CompletionUsage(completion_tokens=278, prompt_tokens=26, total_tokens=304, completion_tokens_details=None, prompt_tokens_details=None))\n",
      "Message only:\n",
      "('Ah, Korea. A fascinating blend of ancient traditions and modern innovation. '\n",
      " 'The cuisine is a testament to this fusion, with dishes like bibimbap and '\n",
      " \"kimchi representing the country's rich culinary heritage while also being \"\n",
      " 'adaptable to contemporary palates. \\n'\n",
      " '\\n'\n",
      " 'Korean food is known for its balance of flavors - spicy, salty, sweet, and '\n",
      " \"sour. It's not just about the hot pepper flakes that give it a kick, but \"\n",
      " \"also about the delicate balance of these different tastes. And let's not \"\n",
      " 'forget the importance of presentation in Korean cuisine. Each dish is '\n",
      " 'carefully arranged, often with vibrant colors and textures, making every '\n",
      " 'meal a visual feast as well.\\n'\n",
      " '\\n'\n",
      " \"There's something truly special about how Koreans use fermented foods like \"\n",
      " 'kimchi and doenjang (fermented soybean paste) in their cooking. Not only do '\n",
      " 'they add depth of flavor, but they also contribute to the health benefits of '\n",
      " 'Korean food. \\n'\n",
      " '\\n'\n",
      " \"And then there's the social aspect of eating in Korea. Meals are often \"\n",
      " 'shared communally, with multiple dishes placed in the center of the table '\n",
      " \"for everyone to enjoy. It's a way of fostering connection and community, \"\n",
      " 'which I believe is at the heart of what makes food so important in our '\n",
      " 'lives.')\n"
     ]
    }
   ],
   "source": [
    "import os\n",
    "from openai import OpenAI\n",
    "from pprint import pprint\n",
    "\n",
    "client = OpenAI(\n",
    "    api_key=os.environ[\"UPSTAGE_API_KEY\"], base_url=\"https://api.upstage.ai/v1/solar\"\n",
    ")\n",
    "chat_result = client.chat.completions.create(\n",
    "    model=\"solar-1-mini-chat\",\n",
    "    messages=[\n",
    "        {\"role\": \"system\", \"content\": \"you should extract names of start point, and destination.\"}, ##system 위치에 역할을 알려준다.\n",
    "    ],\n",
    ")\n",
    "pprint(chat_result)\n",
    "print(\"Message only:\")\n",
    "pprint(chat_result.choices[0].message.content)"
   ]
  },
  {
   "cell_type": "code",
   "execution_count": 188,
   "id": "5d18b0a8-c0d2-456d-a1ae-bb00c7cd2235",
   "metadata": {},
   "outputs": [],
   "source": [
    "import requests\n",
    "\n",
    "# API 키와 URL 설정\n",
    "api_key = \"QLdNjlGyula0zcHRE3c6T3SN14Q3ewnn6axyDT5M\"\n",
    "geo_url = \"https://apis.openapi.sk.com/tmap/geo/fullAddrGeo\"\n",
    "route_url = \"https://apis.openapi.sk.com/tmap/routes/pedestrian?version=1&format=json\""
   ]
  },
  {
   "cell_type": "code",
   "execution_count": 198,
   "id": "f875f61f-340c-40b2-a742-9933118c4654",
   "metadata": {},
   "outputs": [
    {
     "data": {
      "text/plain": [
       "['37.55159409', '126.93788626', '마포구']"
      ]
     },
     "execution_count": 198,
     "metadata": {},
     "output_type": "execute_result"
    }
   ],
   "source": [
    "find_point('서강')"
   ]
  },
  {
   "cell_type": "code",
   "execution_count": 199,
   "id": "f5ac5a84-ac83-408e-9fbd-649077adf894",
   "metadata": {},
   "outputs": [
    {
     "name": "stdin",
     "output_type": "stream",
     "text": [
      "시작 지점 :  서강대\n",
      "도착 지점 :  신촌역\n"
     ]
    },
    {
     "ename": "TypeError",
     "evalue": "get_route_info() takes 2 positional arguments but 4 were given",
     "output_type": "error",
     "traceback": [
      "\u001b[1;31m---------------------------------------------------------------------------\u001b[0m",
      "\u001b[1;31mTypeError\u001b[0m                                 Traceback (most recent call last)",
      "Cell \u001b[1;32mIn[199], line 65\u001b[0m\n\u001b[0;32m     63\u001b[0m start \u001b[38;5;241m=\u001b[39m \u001b[38;5;28minput\u001b[39m(\u001b[38;5;124m\"\u001b[39m\u001b[38;5;124m시작 지점 : \u001b[39m\u001b[38;5;124m\"\u001b[39m)\n\u001b[0;32m     64\u001b[0m end \u001b[38;5;241m=\u001b[39m \u001b[38;5;28minput\u001b[39m(\u001b[38;5;124m\"\u001b[39m\u001b[38;5;124m도착 지점 : \u001b[39m\u001b[38;5;124m\"\u001b[39m)\n\u001b[1;32m---> 65\u001b[0m find_path_with_name(start, end)\n",
      "Cell \u001b[1;32mIn[199], line 59\u001b[0m, in \u001b[0;36mfind_path_with_name\u001b[1;34m(start, end)\u001b[0m\n\u001b[0;32m     57\u001b[0m start_point \u001b[38;5;241m=\u001b[39m find_point(start)\n\u001b[0;32m     58\u001b[0m end_point \u001b[38;5;241m=\u001b[39m find_point(end)\n\u001b[1;32m---> 59\u001b[0m distance, time \u001b[38;5;241m=\u001b[39m get_route_info(start_point[\u001b[38;5;241m0\u001b[39m], start_point[\u001b[38;5;241m1\u001b[39m], end_point[\u001b[38;5;241m0\u001b[39m], end_point[\u001b[38;5;241m1\u001b[39m])\n\u001b[0;32m     60\u001b[0m \u001b[38;5;28;01mreturn\u001b[39;00m distance, time\n",
      "\u001b[1;31mTypeError\u001b[0m: get_route_info() takes 2 positional arguments but 4 were given"
     ]
    }
   ],
   "source": [
    "import requests\n",
    "import xml.etree.ElementTree as ET\n",
    "\n",
    " \n",
    "def find_point(point_name) :\n",
    "# API 요청을 보낼 URL과 파라미터 설정\n",
    "    geo_url = \"https://apis.openapi.sk.com/tmap/geo/fullAddrGeo\"\n",
    "    route_url = \"https://apis.openapi.sk.com/tmap/routes/pedestrian?version=1&format=json\"\n",
    "    base_url = \"https://apis.openapi.sk.com/tmap/pois\"  # 엔드포인트 URL\n",
    "    params = {\n",
    "        \"version\": \"1\",\n",
    "        \"searchKeyword\": point_name,\n",
    "        \"centerLon\": \"126.93788626\",\n",
    "        \"centerLat\": \"37.55159409\",\n",
    "        \"reqCoordType\": \"WGS84GEO\",\n",
    "        \"resCoordType\": \"WGS84GEO\",\n",
    "        \"count\": \"1\",  # 첫 번째 결과만 가져오기 위해 제한\n",
    "        \"appKey\": api_key    # 실제 Tmap API Key로 교체하세요\n",
    "    }\n",
    "    \n",
    "    # API 요청 보내기 (GET 요청 사용)\n",
    "    response = requests.get(base_url, params=params)\n",
    "    start_data = response.json()\n",
    "    front_lat = start_data['searchPoiInfo']['pois']['poi'][0]['frontLat']\n",
    "    front_lon = start_data['searchPoiInfo']['pois']['poi'][0]['frontLon']\n",
    "    \n",
    "    return [front_lat, front_lon, start_data['searchPoiInfo']['pois']['poi'][0]['middleAddrName']]\n",
    "\n",
    "def get_route_info(start, end):\n",
    "    url = \"https://apis.openapi.sk.com/tmap/routes/pedestrian?version=1&format=json\"\n",
    "    headers = {\n",
    "        \"appKey\": api_key,\n",
    "    }\n",
    "    params = {\n",
    "        \"startX\": start[1],\n",
    "        \"startY\": start[0],\n",
    "        \"endX\": end[1],\n",
    "        \"endY\": end[0],\n",
    "        \"reqCoordType\": \"WGS84GEO\",\n",
    "        \"resCoordType\": \"EPSG3857\",\n",
    "        \"startName\": \"출발지\",\n",
    "        \"endName\": \"도착지\",\n",
    "    }\n",
    "\n",
    "    response = requests.post(url, headers=headers, json=params)\n",
    "\n",
    "    if response.status_code == 200:\n",
    "        result_data = response.json()\n",
    "        total_distance = result_data['features'][0]['properties']['totalDistance'] / 1000  # km\n",
    "        total_time = result_data['features'][0]['properties']['totalTime'] / 60  # minutes\n",
    "        return total_distance, total_time\n",
    "    else:\n",
    "        print(f\"Error: {response.status_code}, {response.text}\")\n",
    "        return None, None\n",
    "\n",
    "def find_path_with_name(start, end) :\n",
    "    start_point = find_point(start)\n",
    "    end_point = find_point(end)\n",
    "    distance, time = get_route_info(start_point[0], start_point[1], end_point[0], end_point[1])\n",
    "    return distance, time\n",
    "\n",
    "\n",
    "start = input(\"시작 지점 : \")\n",
    "end = input(\"도착 지점 : \")\n",
    "find_path_with_name(start, end)"
   ]
  },
  {
   "cell_type": "code",
   "execution_count": 201,
   "id": "a4db8d2d-9743-427b-9e20-a25dbfd27d85",
   "metadata": {},
   "outputs": [
    {
     "ename": "TypeError",
     "evalue": "get_route_info() takes 2 positional arguments but 5 were given",
     "output_type": "error",
     "traceback": [
      "\u001b[1;31m---------------------------------------------------------------------------\u001b[0m",
      "\u001b[1;31mTypeError\u001b[0m                                 Traceback (most recent call last)",
      "Cell \u001b[1;32mIn[201], line 36\u001b[0m\n\u001b[0;32m     33\u001b[0m app_key \u001b[38;5;241m=\u001b[39m \u001b[38;5;124m\"\u001b[39m\u001b[38;5;124m발급받은 AppKey\u001b[39m\u001b[38;5;124m\"\u001b[39m  \u001b[38;5;66;03m# 여기에 발급받은 AppKey를 입력하세요.\u001b[39;00m\n\u001b[0;32m     35\u001b[0m \u001b[38;5;66;03m# 거리와 예상 시간 가져오기\u001b[39;00m\n\u001b[1;32m---> 36\u001b[0m distance, time \u001b[38;5;241m=\u001b[39m get_route_info(start_lat, start_lon, end_lat, end_lon, app_key)\n\u001b[0;32m     38\u001b[0m \u001b[38;5;28;01mif\u001b[39;00m distance \u001b[38;5;129;01mis\u001b[39;00m \u001b[38;5;129;01mnot\u001b[39;00m \u001b[38;5;28;01mNone\u001b[39;00m \u001b[38;5;129;01mand\u001b[39;00m time \u001b[38;5;129;01mis\u001b[39;00m \u001b[38;5;129;01mnot\u001b[39;00m \u001b[38;5;28;01mNone\u001b[39;00m:\n\u001b[0;32m     39\u001b[0m     \u001b[38;5;28mprint\u001b[39m(\u001b[38;5;124mf\u001b[39m\u001b[38;5;124m\"\u001b[39m\u001b[38;5;124m총 거리: \u001b[39m\u001b[38;5;132;01m{\u001b[39;00mdistance\u001b[38;5;132;01m:\u001b[39;00m\u001b[38;5;124m.1f\u001b[39m\u001b[38;5;132;01m}\u001b[39;00m\u001b[38;5;124m km, 예상 시간: \u001b[39m\u001b[38;5;132;01m{\u001b[39;00mtime\u001b[38;5;132;01m:\u001b[39;00m\u001b[38;5;124m.0f\u001b[39m\u001b[38;5;132;01m}\u001b[39;00m\u001b[38;5;124m 분\u001b[39m\u001b[38;5;124m\"\u001b[39m)\n",
      "\u001b[1;31mTypeError\u001b[0m: get_route_info() takes 2 positional arguments but 5 were given"
     ]
    }
   ],
   "source": [
    "def get_route_info(start, end):\n",
    "    url = \"https://apis.openapi.sk.com/tmap/routes/pedestrian?version=1&format=json\"\n",
    "    headers = {\n",
    "        \"appKey\": api_key,\n",
    "    }\n",
    "    params = {\n",
    "        \"startX\": start[0],\n",
    "        \"startY\": start[1],\n",
    "        \"endX\": end[0],\n",
    "        \"endY\": end[1],\n",
    "        \"reqCoordType\": \"WGS84GEO\",\n",
    "        \"resCoordType\": \"EPSG3857\",\n",
    "        \"startName\": \"출발지\",\n",
    "        \"endName\": \"도착지\",\n",
    "    }\n",
    "\n",
    "    response = requests.post(url, headers=headers, json=params)\n",
    "\n",
    "    if response.status_code == 200:\n",
    "        result_data = response.json()\n",
    "        total_distance = result_data['features'][0]['properties']['totalDistance'] / 1000  # km\n",
    "        total_time = result_data['features'][0]['properties']['totalTime'] / 60  # minutes\n",
    "        return total_distance, total_time\n",
    "    else:\n",
    "        print(f\"Error: {response.status_code}, {response.text}\")\n",
    "        return None, None\n",
    "\n",
    "# 예제 좌표 (서울 시내 예시)\n",
    "start_lat = 37.564991\n",
    "start_lon = 126.983937\n",
    "end_lat = 37.566158\n",
    "end_lon = 126.988940\n",
    "app_key = \"발급받은 AppKey\"  # 여기에 발급받은 AppKey를 입력하세요.\n",
    "\n",
    "# 거리와 예상 시간 가져오기\n",
    "distance, time = get_route_info(start_lat, start_lon, end_lat, end_lon, app_key)\n",
    "\n",
    "if distance is not None and time is not None:\n",
    "    print(f\"총 거리: {distance:.1f} km, 예상 시간: {time:.0f} 분\")"
   ]
  },
  {
   "cell_type": "code",
   "execution_count": 204,
   "id": "5cc879b3-afa6-482b-b075-737f4b97a817",
   "metadata": {},
   "outputs": [
    {
     "ename": "TypeError",
     "evalue": "get_route_info() takes 4 positional arguments but 6 were given",
     "output_type": "error",
     "traceback": [
      "\u001b[1;31m---------------------------------------------------------------------------\u001b[0m",
      "\u001b[1;31mTypeError\u001b[0m                                 Traceback (most recent call last)",
      "Cell \u001b[1;32mIn[204], line 49\u001b[0m\n\u001b[0;32m     46\u001b[0m waypoints_str \u001b[38;5;241m=\u001b[39m \u001b[38;5;124m\"\u001b[39m\u001b[38;5;124m|\u001b[39m\u001b[38;5;124m\"\u001b[39m\u001b[38;5;241m.\u001b[39mjoin([\u001b[38;5;124mf\u001b[39m\u001b[38;5;124m\"\u001b[39m\u001b[38;5;132;01m{\u001b[39;00mwp[\u001b[38;5;124m'\u001b[39m\u001b[38;5;124mlon\u001b[39m\u001b[38;5;124m'\u001b[39m]\u001b[38;5;132;01m}\u001b[39;00m\u001b[38;5;124m,\u001b[39m\u001b[38;5;132;01m{\u001b[39;00mwp[\u001b[38;5;124m'\u001b[39m\u001b[38;5;124mlat\u001b[39m\u001b[38;5;124m'\u001b[39m]\u001b[38;5;132;01m}\u001b[39;00m\u001b[38;5;124m\"\u001b[39m \u001b[38;5;28;01mfor\u001b[39;00m wp \u001b[38;5;129;01min\u001b[39;00m waypoints])\n\u001b[0;32m     48\u001b[0m \u001b[38;5;66;03m# 거리와 예상 시간 가져오기\u001b[39;00m\n\u001b[1;32m---> 49\u001b[0m distance, time \u001b[38;5;241m=\u001b[39m get_route_info(start_lat, start_lon, end_lat, end_lon, waypoints_str, app_key)\n\u001b[0;32m     51\u001b[0m \u001b[38;5;28;01mif\u001b[39;00m distance \u001b[38;5;129;01mis\u001b[39;00m \u001b[38;5;129;01mnot\u001b[39;00m \u001b[38;5;28;01mNone\u001b[39;00m \u001b[38;5;129;01mand\u001b[39;00m time \u001b[38;5;129;01mis\u001b[39;00m \u001b[38;5;129;01mnot\u001b[39;00m \u001b[38;5;28;01mNone\u001b[39;00m:\n\u001b[0;32m     52\u001b[0m     \u001b[38;5;28mprint\u001b[39m(\u001b[38;5;124mf\u001b[39m\u001b[38;5;124m\"\u001b[39m\u001b[38;5;124m총 거리: \u001b[39m\u001b[38;5;132;01m{\u001b[39;00mdistance\u001b[38;5;132;01m:\u001b[39;00m\u001b[38;5;124m.1f\u001b[39m\u001b[38;5;132;01m}\u001b[39;00m\u001b[38;5;124m km, 예상 시간: \u001b[39m\u001b[38;5;132;01m{\u001b[39;00mtime\u001b[38;5;132;01m:\u001b[39;00m\u001b[38;5;124m.0f\u001b[39m\u001b[38;5;132;01m}\u001b[39;00m\u001b[38;5;124m 분\u001b[39m\u001b[38;5;124m\"\u001b[39m)\n",
      "\u001b[1;31mTypeError\u001b[0m: get_route_info() takes 4 positional arguments but 6 were given"
     ]
    }
   ],
   "source": [
    "import requests\n",
    "start_point = find_point(start)\n",
    "end_point = find_point(end)\n",
    "\n",
    "def get_route_info(start_lat, start_lon, end_lat, end_lon):\n",
    "    url = \"https://apis.openapi.sk.com/tmap/routes/pedestrian?version=1&format=json\"\n",
    "    headers = {\n",
    "        \"appKey\": api_key,\n",
    "    }\n",
    "    \n",
    "    params = {\n",
    "        \"startX\": str(start_lon),\n",
    "        \"startY\": str(start_lat),\n",
    "        \"endX\": str(end_lon),\n",
    "        \"endY\": str(end_lat),\n",
    "        \"reqCoordType\": \"WGS84GEO\",\n",
    "        \"resCoordType\": \"EPSG3857\",\n",
    "        \"startName\": \"출발지\",\n",
    "        \"endName\": \"도착지\",\n",
    "    }\n",
    "\n",
    "    response = requests.post(url, headers=headers, json=params)\n",
    "\n",
    "    if response.status_code == 200:\n",
    "        result_data = response.json()\n",
    "        total_distance = result_data['features'][0]['properties']['totalDistance'] / 1000  # km\n",
    "        total_time = result_data['features'][0]['properties']['totalTime'] / 60  # minutes\n",
    "        return total_distance, total_time\n",
    "    else:\n",
    "        print(f\"Error: {response.status_code}, {response.text}\")\n",
    "        return None, None\n",
    "\n",
    "# 예제 좌표 (서울 시내 예시)\n",
    "start_lat = 37.564991\n",
    "start_lon = 126.983937\n",
    "end_lat = 37.566158\n",
    "end_lon = 126.988940\n",
    "app_key = \"발급받은 AppKey\"  # 여기에 발급받은 AppKey를 입력하세요.\n",
    "\n",
    "# 경유지 추가 예시\n",
    "waypoints = [\n",
    "    {\"name\": \"경유지1\", \"lat\": 37.5650, \"lon\": 126.9850},\n",
    "]\n",
    "\n",
    "# 경유지 포맷에 맞게 문자열로 변환\n",
    "waypoints_str = \"|\".join([f\"{wp['lon']},{wp['lat']}\" for wp in waypoints])\n",
    "\n",
    "# 거리와 예상 시간 가져오기\n",
    "distance, time = get_route_info(start_lat, start_lon, end_lat, end_lon, waypoints_str, app_key)\n",
    "\n",
    "if distance is not None and time is not None:\n",
    "    print(f\"총 거리: {distance:.1f} km, 예상 시간: {time:.0f} 분\")\n"
   ]
  },
  {
   "cell_type": "code",
   "execution_count": 205,
   "id": "f460f185-11c9-443b-8b61-21395fb1403d",
   "metadata": {},
   "outputs": [
    {
     "name": "stdin",
     "output_type": "stream",
     "text": [
      "시작 지점 :  서강대\n",
      "도착 지점 :  신촌역\n"
     ]
    },
    {
     "data": {
      "text/plain": [
       "(0.398, 4.75)"
      ]
     },
     "execution_count": 205,
     "metadata": {},
     "output_type": "execute_result"
    }
   ],
   "source": [
    "start = input(\"시작 지점 : \")\n",
    "end = input(\"도착 지점 : \")\n",
    "find_path_with_name(start, end)"
   ]
  },
  {
   "cell_type": "code",
   "execution_count": 206,
   "id": "88d72063-c86e-4bc8-b336-4638d793e3f6",
   "metadata": {},
   "outputs": [],
   "source": [
    "def express_route(startX, startY, endX, endY) :\n",
    "    # 경로 탐색 요청 파라미터\n",
    "    route_params = {\n",
    "        \"startX\": startX,\n",
    "        \"startY\": startY,\n",
    "        \"endX\": endX,\n",
    "        \"endY\": endY,\n",
    "        \"reqCoordType\": \"WGS84GEO\",\n",
    "        \"resCoordType\": \"EPSG3857\",\n",
    "        \"startName\": \"출발지\",\n",
    "        \"endName\": \"도착지\",\n",
    "    }\n",
    "    \n",
    "    \n",
    "    # 경로 탐색 API 호출\n",
    "    response = requests.post(route_url, headers=headers, json=route_params)\n",
    "    if response.status_code == 200:\n",
    "        data = response.json()\n",
    "        \n",
    "        # 총 거리, 시간\n",
    "        total_distance = data[\"features\"][0][\"properties\"][\"totalDistance\"]\n",
    "        total_time_sec = data[\"features\"][0][\"properties\"][\"totalTime\"]\n",
    "        total_time_min = total_time_sec // 60 # 분\n",
    "        total_time_sec = total_time_sec % 60 # 초\n",
    "        print(f\"총 거리: {total_distance} 미터\")\n",
    "        print(f\"총 예상 시간: {total_time_min}분 {total_time_sec}초\")\n",
    "    \n",
    "        # 각 구간별 세부 정보 (설명, 거리, 시간, 위도/경도)\n",
    "        for feature in data[\"features\"]:\n",
    "            properties = feature[\"properties\"]\n",
    "            geometry = feature[\"geometry\"]\n",
    "            \n",
    "            # 구간 설명, 거리 및 시간\n",
    "            description = properties.get(\"description\", \"N/A\")\n",
    "            distance = properties.get(\"distance\", None)\n",
    "            time = properties.get(\"time\", None)\n",
    "            \n",
    "            # 거리와 시간이 없을 경우 조건 처리\n",
    "            distance_text = f\"{distance}미터\" if distance is not None else \"정보 없음\"\n",
    "            \n",
    "            # 시간 형식 변경: 60초 이상일 경우 분과 초로 변환\n",
    "            if time is not None:\n",
    "                if time >= 60:\n",
    "                    minutes = time // 60\n",
    "                    seconds = time % 60\n",
    "                    time_text = f\"{minutes}분 {seconds}초\"\n",
    "                else:\n",
    "                    time_text = f\"{time}초\"\n",
    "            else:\n",
    "                time_text = \"정보 없음\"\n",
    "            \n",
    "            # 구간 위도와 경도 (모든 좌표 포함)\n",
    "            coordinates = []\n",
    "            if geometry[\"type\"] == \"Point\":\n",
    "                coordinates.append(f\"({geometry['coordinates'][1]}, {geometry['coordinates'][0]})\")\n",
    "            elif geometry[\"type\"] == \"LineString\":\n",
    "                for coord in geometry[\"coordinates\"]:\n",
    "                    coordinates.append(f\"({coord[1]}, {coord[0]})\")\n",
    "            \n",
    "            # 출력 형식: 구간 설명, 거리, 시간, 모든 좌표\n",
    "            coordinates_text = \", \".join(coordinates)\n",
    "            print(f\"구간 설명: {description}, 거리: {distance_text}, 예상 시간: {time_text}, 위치: {coordinates_text}\")\n",
    "    else:\n",
    "        print(\"API 요청 실패:\", response.status_code)"
   ]
  },
  {
   "cell_type": "code",
   "execution_count": 197,
   "id": "8c097485-2286-4210-a866-558944ebc6e9",
   "metadata": {},
   "outputs": [
    {
     "name": "stdout",
     "output_type": "stream",
     "text": [
      "* Running on local URL:  http://127.0.0.1:7872\n",
      "\n",
      "To create a public link, set `share=True` in `launch()`.\n"
     ]
    },
    {
     "data": {
      "text/html": [
       "<div><iframe src=\"http://127.0.0.1:7872/\" width=\"100%\" height=\"500\" allow=\"autoplay; camera; microphone; clipboard-read; clipboard-write;\" frameborder=\"0\" allowfullscreen></iframe></div>"
      ],
      "text/plain": [
       "<IPython.core.display.HTML object>"
      ]
     },
     "metadata": {},
     "output_type": "display_data"
    },
    {
     "data": {
      "text/plain": []
     },
     "execution_count": 197,
     "metadata": {},
     "output_type": "execute_result"
    },
    {
     "name": "stdout",
     "output_type": "stream",
     "text": [
      "API 요청 실패: 429\n"
     ]
    }
   ],
   "source": [
    "import gradio as gr\n",
    "import requests\n",
    "import json\n",
    "\n",
    "api_key = \"QLdNjlGyula0zcHRE3c6T3SN14Q3ewnn6axyDT5M\"\n",
    "\n",
    "def find_path_with_name(start, end) :\n",
    "    start_point = find_point(start)\n",
    "    end_point = find_point(end)\n",
    "    express_route(start_point[1], start_point[0], end_point[1], end_point[0])\n",
    "\n",
    "\n",
    "def find_point(point_name) :\n",
    "# API 요청을 보낼 URL과 파라미터 설정\n",
    "    geo_url = \"https://apis.openapi.sk.com/tmap/geo/fullAddrGeo\"\n",
    "    route_url = \"https://apis.openapi.sk.com/tmap/routes/pedestrian?version=1&format=json\"\n",
    "    base_url = \"https://apis.openapi.sk.com/tmap/pois\"  # 엔드포인트 URL\n",
    "    params = {\n",
    "        \"version\": \"1\",\n",
    "        \"searchKeyword\": point_name,\n",
    "        \"centerLon\": \"126.93788626\",\n",
    "        \"centerLat\": \"37.55159409\",\n",
    "        \"reqCoordType\": \"WGS84GEO\",\n",
    "        \"resCoordType\": \"WGS84GEO\",\n",
    "        \"count\": \"1\",  # 첫 번째 결과만 가져오기 위해 제한\n",
    "        \"appKey\": api_key    # 실제 Tmap API Key로 교체하세요\n",
    "    }\n",
    "    \n",
    "    # API 요청 보내기 (GET 요청 사용)\n",
    "    response = requests.get(base_url, params=params)\n",
    "    start_data = response.json()\n",
    "    front_lat = start_data['searchPoiInfo']['pois']['poi'][0]['frontLat']\n",
    "    front_lon = start_data['searchPoiInfo']['pois']['poi'][0]['frontLon']\n",
    "    \n",
    "    return [front_lat, front_lon, start_data['searchPoiInfo']['pois']['poi'][0]['middleAddrName']]\n",
    "\n",
    "def get_route_info(start, end):\n",
    "    url = \"https://apis.openapi.sk.com/tmap/routes/pedestrian?version=1&format=json\"\n",
    "    headers = {\n",
    "        \"appKey\": api_key,\n",
    "    }\n",
    "    params = {\n",
    "        \"startX\": start[1],\n",
    "        \"startY\": start[0],\n",
    "        \"endX\": end[1],\n",
    "        \"endY\": end[0],\n",
    "        \"reqCoordType\": \"WGS84GEO\",\n",
    "        \"resCoordType\": \"EPSG3857\",\n",
    "        \"startName\": \"출발지\",\n",
    "        \"endName\": \"도착지\",\n",
    "    }\n",
    "\n",
    "    response = requests.post(url, headers=headers, json=params)\n",
    "\n",
    "    if response.status_code == 200:\n",
    "        result_data = response.json()\n",
    "        total_distance = result_data['features'][0]['properties']['totalDistance'] / 1000  # km\n",
    "        total_time = result_data['features'][0]['properties']['totalTime'] / 60  # minutes\n",
    "        return total_distance, total_time\n",
    "    else:\n",
    "        print(f\"Error: {response.status_code}, {response.text}\")\n",
    "        return None, None\n",
    "\n",
    "def get_walking_route(start_point, end_point):\n",
    "    try:\n",
    "        total_distance , total_time = find_path_with_name(start_point, end_point)\n",
    "        \n",
    "        \n",
    "        # 친근한 메시지 형식으로 변경\n",
    "        message = f\"\"\"\n",
    "안녕하세요! {start_point}에서 {end_point}까지의 도보 경로를 알려드릴게요.\n",
    "\n",
    "🚶‍♂️ 총 도보 거리: {total_distance}m\n",
    "⏰ 예상 소요시간: {total_time}분\n",
    "\n",
    "즐거운 도보 되세요! 안전한 길로 안내해드리도록 하겠습니다.\n",
    "        \"\"\"\n",
    "        return message\n",
    "        \n",
    "    except Exception as e:\n",
    "        return f\"죄송합니다. 경로 검색 중 오류가 발생했습니다: {str(e)}\\n다시 한 번 시도해주세요.\"\n",
    "\n",
    "# Gradio 인터페이스 생성\n",
    "iface = gr.Interface(\n",
    "    fn=get_walking_route,\n",
    "    inputs=[\n",
    "        gr.Textbox(placeholder=\"예: 홍대입구역\", label=\"출발지를 입력해주세요\"),\n",
    "        gr.Textbox(placeholder=\"예: 합정역\", label=\"도착지를 입력해주세요\")\n",
    "    ],\n",
    "    outputs=gr.Textbox(label=\"도보 경로 안내\"),\n",
    "    title=\"🚶 안전한 도보 경로 안내 챗봇\",\n",
    "    description=\"마포구 내 안전한 도보 경로를 안내해드립니다. 출발지와 도착지를 입력해주세요.\",\n",
    "    theme=\"soft\"\n",
    ")\n",
    "\n",
    "iface.launch()"
   ]
  },
  {
   "cell_type": "code",
   "execution_count": null,
   "id": "6a6e91f9-9392-4919-9197-4dd1738b21dc",
   "metadata": {},
   "outputs": [],
   "source": []
  }
 ],
 "metadata": {
  "kernelspec": {
   "display_name": "Python 3 (ipykernel)",
   "language": "python",
   "name": "python3"
  },
  "language_info": {
   "codemirror_mode": {
    "name": "ipython",
    "version": 3
   },
   "file_extension": ".py",
   "mimetype": "text/x-python",
   "name": "python",
   "nbconvert_exporter": "python",
   "pygments_lexer": "ipython3",
   "version": "3.12.4"
  }
 },
 "nbformat": 4,
 "nbformat_minor": 5
}
